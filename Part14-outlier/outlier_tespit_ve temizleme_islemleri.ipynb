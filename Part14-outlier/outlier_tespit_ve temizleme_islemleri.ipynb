{
 "cells": [
  {
   "cell_type": "markdown",
   "id": "ce567d36",
   "metadata": {},
   "source": [
    "# OUTLIER (AYKIRI DEĞER) TESPİTİ ve VERİSETİNDEN TEMİZLENMESİ İŞLEMLERİ\n",
    "\n",
    "\n",
    "\n",
    "Outlier, bir veriseti içerisindeki diğer gözlemlerden aykırı ve sapan gözlem veya veri değerdir.\n",
    "\n",
    "Outlier Nedenleri?\n",
    "- İnsan kaynaklı hatalar (hatalı veri girişi)\n",
    "- Cihazlardan kaynaklanan hatalar (örneğin ölçüm cihazlarının nadiren de olsa yanlış değer ölçmesi)\n"
   ]
  },
  {
   "cell_type": "code",
   "execution_count": 1,
   "id": "0c880cda",
   "metadata": {},
   "outputs": [
    {
     "data": {
      "text/html": [
       "<div>\n",
       "<style scoped>\n",
       "    .dataframe tbody tr th:only-of-type {\n",
       "        vertical-align: middle;\n",
       "    }\n",
       "\n",
       "    .dataframe tbody tr th {\n",
       "        vertical-align: top;\n",
       "    }\n",
       "\n",
       "    .dataframe thead th {\n",
       "        text-align: right;\n",
       "    }\n",
       "</style>\n",
       "<table border=\"1\" class=\"dataframe\">\n",
       "  <thead>\n",
       "    <tr style=\"text-align: right;\">\n",
       "      <th></th>\n",
       "      <th>isim</th>\n",
       "      <th>boy</th>\n",
       "    </tr>\n",
       "  </thead>\n",
       "  <tbody>\n",
       "    <tr>\n",
       "      <th>0</th>\n",
       "      <td>can</td>\n",
       "      <td>88</td>\n",
       "    </tr>\n",
       "    <tr>\n",
       "      <th>1</th>\n",
       "      <td>ali</td>\n",
       "      <td>132</td>\n",
       "    </tr>\n",
       "    <tr>\n",
       "      <th>2</th>\n",
       "      <td>tugce</td>\n",
       "      <td>134</td>\n",
       "    </tr>\n",
       "    <tr>\n",
       "      <th>3</th>\n",
       "      <td>ayse</td>\n",
       "      <td>137</td>\n",
       "    </tr>\n",
       "    <tr>\n",
       "      <th>4</th>\n",
       "      <td>nihan</td>\n",
       "      <td>139</td>\n",
       "    </tr>\n",
       "    <tr>\n",
       "      <th>5</th>\n",
       "      <td>sahin</td>\n",
       "      <td>142</td>\n",
       "    </tr>\n",
       "    <tr>\n",
       "      <th>6</th>\n",
       "      <td>kaan</td>\n",
       "      <td>142</td>\n",
       "    </tr>\n",
       "    <tr>\n",
       "      <th>7</th>\n",
       "      <td>emre</td>\n",
       "      <td>144</td>\n",
       "    </tr>\n",
       "    <tr>\n",
       "      <th>8</th>\n",
       "      <td>bartu</td>\n",
       "      <td>147</td>\n",
       "    </tr>\n",
       "    <tr>\n",
       "      <th>9</th>\n",
       "      <td>ismail</td>\n",
       "      <td>148</td>\n",
       "    </tr>\n",
       "    <tr>\n",
       "      <th>10</th>\n",
       "      <td>gokalp</td>\n",
       "      <td>149</td>\n",
       "    </tr>\n",
       "    <tr>\n",
       "      <th>11</th>\n",
       "      <td>osman</td>\n",
       "      <td>149</td>\n",
       "    </tr>\n",
       "    <tr>\n",
       "      <th>12</th>\n",
       "      <td>filiz</td>\n",
       "      <td>150</td>\n",
       "    </tr>\n",
       "    <tr>\n",
       "      <th>13</th>\n",
       "      <td>veli</td>\n",
       "      <td>207</td>\n",
       "    </tr>\n",
       "    <tr>\n",
       "      <th>14</th>\n",
       "      <td>ilker</td>\n",
       "      <td>234</td>\n",
       "    </tr>\n",
       "  </tbody>\n",
       "</table>\n",
       "</div>"
      ],
      "text/plain": [
       "      isim  boy\n",
       "0      can   88\n",
       "1      ali  132\n",
       "2    tugce  134\n",
       "3     ayse  137\n",
       "4    nihan  139\n",
       "5    sahin  142\n",
       "6     kaan  142\n",
       "7     emre  144\n",
       "8    bartu  147\n",
       "9   ismail  148\n",
       "10  gokalp  149\n",
       "11   osman  149\n",
       "12   filiz  150\n",
       "13    veli  207\n",
       "14   ilker  234"
      ]
     },
     "execution_count": 1,
     "metadata": {},
     "output_type": "execute_result"
    }
   ],
   "source": [
    "import pandas as pd\n",
    "\n",
    "df = pd.read_csv(\"outlier_ornek_veriseti.csv\", sep=';')\n",
    "df"
   ]
  },
  {
   "cell_type": "code",
   "execution_count": 5,
   "id": "5951cfaf",
   "metadata": {},
   "outputs": [
    {
     "data": {
      "text/html": [
       "<div>\n",
       "<style scoped>\n",
       "    .dataframe tbody tr th:only-of-type {\n",
       "        vertical-align: middle;\n",
       "    }\n",
       "\n",
       "    .dataframe tbody tr th {\n",
       "        vertical-align: top;\n",
       "    }\n",
       "\n",
       "    .dataframe thead th {\n",
       "        text-align: right;\n",
       "    }\n",
       "</style>\n",
       "<table border=\"1\" class=\"dataframe\">\n",
       "  <thead>\n",
       "    <tr style=\"text-align: right;\">\n",
       "      <th></th>\n",
       "      <th>boy</th>\n",
       "    </tr>\n",
       "  </thead>\n",
       "  <tbody>\n",
       "    <tr>\n",
       "      <th>count</th>\n",
       "      <td>15.000000</td>\n",
       "    </tr>\n",
       "    <tr>\n",
       "      <th>mean</th>\n",
       "      <td>149.466667</td>\n",
       "    </tr>\n",
       "    <tr>\n",
       "      <th>std</th>\n",
       "      <td>32.943386</td>\n",
       "    </tr>\n",
       "    <tr>\n",
       "      <th>min</th>\n",
       "      <td>88.000000</td>\n",
       "    </tr>\n",
       "    <tr>\n",
       "      <th>25%</th>\n",
       "      <td>138.000000</td>\n",
       "    </tr>\n",
       "    <tr>\n",
       "      <th>50%</th>\n",
       "      <td>144.000000</td>\n",
       "    </tr>\n",
       "    <tr>\n",
       "      <th>75%</th>\n",
       "      <td>149.000000</td>\n",
       "    </tr>\n",
       "    <tr>\n",
       "      <th>max</th>\n",
       "      <td>234.000000</td>\n",
       "    </tr>\n",
       "  </tbody>\n",
       "</table>\n",
       "</div>"
      ],
      "text/plain": [
       "              boy\n",
       "count   15.000000\n",
       "mean   149.466667\n",
       "std     32.943386\n",
       "min     88.000000\n",
       "25%    138.000000\n",
       "50%    144.000000\n",
       "75%    149.000000\n",
       "max    234.000000"
      ]
     },
     "execution_count": 5,
     "metadata": {},
     "output_type": "execute_result"
    }
   ],
   "source": [
    "df.describe()"
   ]
  },
  {
   "cell_type": "markdown",
   "id": "7e1e2f06",
   "metadata": {},
   "source": [
    "### Q1 (%25 percentile hesaplama)"
   ]
  },
  {
   "cell_type": "code",
   "execution_count": 8,
   "id": "9cefd28d",
   "metadata": {},
   "outputs": [
    {
     "data": {
      "text/plain": [
       "138.0"
      ]
     },
     "execution_count": 8,
     "metadata": {},
     "output_type": "execute_result"
    }
   ],
   "source": [
    "Q1 = df.boy.quantile(0.25)\n",
    "Q1"
   ]
  },
  {
   "cell_type": "markdown",
   "id": "eb0bffdd",
   "metadata": {},
   "source": [
    "### Q3 (%75 percentile hesaplama)"
   ]
  },
  {
   "cell_type": "code",
   "execution_count": 11,
   "id": "3a82cc42",
   "metadata": {},
   "outputs": [
    {
     "data": {
      "text/plain": [
       "149.0"
      ]
     },
     "execution_count": 11,
     "metadata": {},
     "output_type": "execute_result"
    }
   ],
   "source": [
    "Q3 = df.boy.quantile(0.75)\n",
    "Q3"
   ]
  },
  {
   "cell_type": "code",
   "execution_count": 13,
   "id": "52bbc9fd",
   "metadata": {},
   "outputs": [
    {
     "data": {
      "text/plain": [
       "144.0"
      ]
     },
     "execution_count": 13,
     "metadata": {},
     "output_type": "execute_result"
    }
   ],
   "source": [
    "#Median\n",
    "Q2 = df.boy.quantile(0.50)\n",
    "Q2"
   ]
  },
  {
   "cell_type": "code",
   "execution_count": 15,
   "id": "75db6057",
   "metadata": {},
   "outputs": [
    {
     "data": {
      "text/plain": [
       "11.0"
      ]
     },
     "execution_count": 15,
     "metadata": {},
     "output_type": "execute_result"
    }
   ],
   "source": [
    "IQR_degeri = Q3 - Q1\n",
    "IQR_degeri"
   ]
  },
  {
   "cell_type": "markdown",
   "id": "2e770372",
   "metadata": {},
   "source": [
    "### Alt Limit ve Üst Limit Hesaplama"
   ]
  },
  {
   "cell_type": "code",
   "execution_count": 18,
   "id": "9c587615",
   "metadata": {},
   "outputs": [],
   "source": [
    "alt_limit = Q1 - 1.5*IQR_degeri"
   ]
  },
  {
   "cell_type": "code",
   "execution_count": 20,
   "id": "4741221c",
   "metadata": {},
   "outputs": [
    {
     "data": {
      "text/plain": [
       "121.5"
      ]
     },
     "execution_count": 20,
     "metadata": {},
     "output_type": "execute_result"
    }
   ],
   "source": [
    "alt_limit"
   ]
  },
  {
   "cell_type": "code",
   "execution_count": 22,
   "id": "a1853684",
   "metadata": {},
   "outputs": [],
   "source": [
    "ust_limit = Q3 + 1.5*IQR_degeri"
   ]
  },
  {
   "cell_type": "code",
   "execution_count": 24,
   "id": "36384eb6",
   "metadata": {},
   "outputs": [
    {
     "data": {
      "text/plain": [
       "165.5"
      ]
     },
     "execution_count": 24,
     "metadata": {},
     "output_type": "execute_result"
    }
   ],
   "source": [
    "ust_limit"
   ]
  },
  {
   "cell_type": "markdown",
   "id": "10d55bdf",
   "metadata": {},
   "source": [
    "### Alt ve Üst Limitleri Hesapladığımıza Göre Verisetimizdeki Outlier (Aykırı) Değerleri Bulabiliriz:"
   ]
  },
  {
   "cell_type": "code",
   "execution_count": 27,
   "id": "93dbd3c5",
   "metadata": {},
   "outputs": [
    {
     "data": {
      "text/html": [
       "<div>\n",
       "<style scoped>\n",
       "    .dataframe tbody tr th:only-of-type {\n",
       "        vertical-align: middle;\n",
       "    }\n",
       "\n",
       "    .dataframe tbody tr th {\n",
       "        vertical-align: top;\n",
       "    }\n",
       "\n",
       "    .dataframe thead th {\n",
       "        text-align: right;\n",
       "    }\n",
       "</style>\n",
       "<table border=\"1\" class=\"dataframe\">\n",
       "  <thead>\n",
       "    <tr style=\"text-align: right;\">\n",
       "      <th></th>\n",
       "      <th>isim</th>\n",
       "      <th>boy</th>\n",
       "    </tr>\n",
       "  </thead>\n",
       "  <tbody>\n",
       "    <tr>\n",
       "      <th>0</th>\n",
       "      <td>can</td>\n",
       "      <td>88</td>\n",
       "    </tr>\n",
       "    <tr>\n",
       "      <th>13</th>\n",
       "      <td>veli</td>\n",
       "      <td>207</td>\n",
       "    </tr>\n",
       "    <tr>\n",
       "      <th>14</th>\n",
       "      <td>ilker</td>\n",
       "      <td>234</td>\n",
       "    </tr>\n",
       "  </tbody>\n",
       "</table>\n",
       "</div>"
      ],
      "text/plain": [
       "     isim  boy\n",
       "0     can   88\n",
       "13   veli  207\n",
       "14  ilker  234"
      ]
     },
     "execution_count": 27,
     "metadata": {},
     "output_type": "execute_result"
    }
   ],
   "source": [
    "df[(df.boy < alt_limit) | (df.boy > ust_limit)]"
   ]
  },
  {
   "cell_type": "markdown",
   "id": "a460003b",
   "metadata": {},
   "source": [
    "#### Bu değerler Outlier değerleridir. İstatistiksel hesaplamalarımızın (ve tabiki bir çok yapay zeka algoritmasının) daha verimli ve etkin çalışabilmesi ve doğru sonuçlar üretebilmesi için Outlier değerleri verisetimizden çıkaracağız.."
   ]
  },
  {
   "cell_type": "code",
   "execution_count": null,
   "id": "5d487783",
   "metadata": {},
   "outputs": [],
   "source": []
  },
  {
   "cell_type": "markdown",
   "id": "2579ecef",
   "metadata": {},
   "source": [
    "### Outlier Değerlerinin Verisetimizden Çıkarılması"
   ]
  },
  {
   "cell_type": "code",
   "execution_count": null,
   "id": "92a57441",
   "metadata": {},
   "outputs": [],
   "source": [
    "df_outlier_filtrelenmis = df[(df.boy > alt_limit) & (df.boy < ust_limit)]\n"
   ]
  },
  {
   "cell_type": "code",
   "execution_count": null,
   "id": "8d8201c5",
   "metadata": {},
   "outputs": [],
   "source": [
    "df_outlier_filtrelenmis"
   ]
  },
  {
   "cell_type": "code",
   "execution_count": null,
   "id": "978552a5",
   "metadata": {},
   "outputs": [],
   "source": []
  }
 ],
 "metadata": {
  "kernelspec": {
   "display_name": "Python [conda env:base] *",
   "language": "python",
   "name": "conda-base-py"
  },
  "language_info": {
   "codemirror_mode": {
    "name": "ipython",
    "version": 3
   },
   "file_extension": ".py",
   "mimetype": "text/x-python",
   "name": "python",
   "nbconvert_exporter": "python",
   "pygments_lexer": "ipython3",
   "version": "3.12.3"
  }
 },
 "nbformat": 4,
 "nbformat_minor": 5
}
