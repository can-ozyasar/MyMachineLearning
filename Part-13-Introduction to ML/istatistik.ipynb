{
 "cells": [
  {
   "cell_type": "markdown",
   "id": "3672a698",
   "metadata": {},
   "source": [
    "<H1> Mean, Median ve Mod Python Örnekli Uygulamaları </H1>"
   ]
  },
  {
   "cell_type": "code",
   "execution_count": 1,
   "id": "98401127",
   "metadata": {},
   "outputs": [],
   "source": [
    "import numpy as np"
   ]
  },
  {
   "cell_type": "code",
   "execution_count": 50,
   "id": "875cae1b",
   "metadata": {},
   "outputs": [
    {
     "data": {
      "text/plain": [
       "array([ 5802.53645362,  1168.60802348,  1589.66777249,  6212.96642048,\n",
       "        6445.2585527 ,  4294.101378  ,  7020.29693446,  7515.34227906,\n",
       "        8148.81893594,  7144.34158368,  2770.14326118,  5003.01538456,\n",
       "        6493.00016984,  8230.86458214,  2377.05311176,  5859.12087198,\n",
       "        2380.49351575,  4896.10729547,  1461.83819011,  6423.32021856,\n",
       "        5209.99990695,  2648.26642811,  8096.80959582,  4592.47217786,\n",
       "        5767.79561737,  6956.07648867,  7259.29990124,  5899.28733513,\n",
       "        6845.8601067 ,  3157.31363876,  4142.50158718,  6006.97840681,\n",
       "        1552.35426435,  5542.39489452,  4249.286889  ,  4466.17657489,\n",
       "        3759.71182258,  6604.99916562,  6639.42201561,  6680.84860307,\n",
       "        2720.19677245,  7122.47741415,  4498.51219193,  5703.57619743,\n",
       "        9269.09160583,  7059.57812943,  2864.24822603,  5909.74726636,\n",
       "        4041.04705478,  5531.1742888 ,  5584.33222008,  3938.12569498,\n",
       "        4046.81038656,  6944.53249756,  3445.24308482,  4682.65301355,\n",
       "        5615.93431578,  8649.7279022 ,  4785.79279928,  6289.931845  ,\n",
       "        4150.98772679,  4901.5373199 ,  5127.32878204,  6621.38990132,\n",
       "        4848.69702996,  3691.76119969,  8858.51626885,  3555.54445026,\n",
       "        3542.80300039,  4640.62179277,  7021.46369708,  5397.94847402,\n",
       "        2417.89099113,  9490.57578444,  5012.12045922,  3514.97645051,\n",
       "        7620.60358062,  5788.14091014,  7142.52770611,  4147.19188701,\n",
       "        5642.30328275,  7392.35059958,  1893.16911326,  2289.01515712,\n",
       "        5312.56662894,  5702.00528894,  4037.11094899,  4763.30219929,\n",
       "        6354.28146065,  6983.02951577,  1994.50382643,  5645.86546942,\n",
       "        3817.19432607,  7191.58957827,  7449.90757339,  4789.34194876,\n",
       "        2960.08714894,  4218.88044745,  7947.8393548 ,  7653.34987047,\n",
       "        2595.23473913,  3802.57234335,  4153.2836966 ,  1874.08015326,\n",
       "         715.27487254,  5759.03080034,  4147.44573773,  8189.63414049,\n",
       "        4066.71953237,  5884.10263673,  7817.13331318,  5047.23012245,\n",
       "        3219.33481984,  5307.78977159,  2797.6200059 ,  2046.03198626,\n",
       "        4242.35119547,  9192.73696717,  9736.03525122,  5661.87680729,\n",
       "        2210.73950169,  2027.27886624,  2210.67676824,  4372.57615322,\n",
       "        9281.5831639 ,  6210.36838997,  2653.8223039 ,  4031.25129849,\n",
       "        4085.96529509,  4237.97581613,  2349.46682697,  2360.28205555,\n",
       "        4071.61269212,  7727.38026027,  6628.08469311,  5422.0767486 ,\n",
       "        2040.32836991,  5815.63275843,  4694.51822844,  5536.07315449,\n",
       "        7300.32399819,  6344.0015923 ,  3014.4709866 ,  3149.62683999,\n",
       "        4199.55918307,  4349.34511822,  2149.47518775,  5610.04690409,\n",
       "        6466.55256845,  8321.43977767,  3818.63503531,  6917.39272989,\n",
       "        3144.21218323,  7523.54325428,  1980.44581434,  4330.4649364 ,\n",
       "        2675.63242669,  5320.25906765,  2493.82428932,  8587.72275189,\n",
       "        3418.06839776,  3530.41608727,  3000.81948126,  6145.46614676,\n",
       "        4939.84291772,  3760.05404887,  3705.36731135,  2480.05995592,\n",
       "         985.34363272,  5042.3507715 ,  8358.63042375,  2960.50207732,\n",
       "        5250.32058502,  3299.16308932,  4682.43447193,  4931.78701111,\n",
       "        6049.20515133,  5255.81182055,  1989.12349326,  3984.00208063,\n",
       "        3144.14658282,  6518.22319358,  1573.64568899,   354.74303055,\n",
       "        2065.87110541,  3281.94869386,  3429.64803475,  3640.80504263,\n",
       "        2325.69922878,  4845.98915206,  2754.16371477,  1303.80809649,\n",
       "        6947.88219895,  8739.41586578,  3575.21433174,  3447.13415169,\n",
       "        5904.72063157,  7602.03645137,  4935.27552301,  8413.41486814,\n",
       "        6292.3875112 ,  3148.33747445,  6453.80054351,  4929.31660778,\n",
       "        5541.32194954,  3451.59619507,  9107.56767749,  7283.91798822,\n",
       "        5610.50989911,  4089.12945339,  2970.74611718,  4443.49257772,\n",
       "        5634.68963993,  5604.38216654,  3014.59916876,  3859.51634414,\n",
       "        6952.70251169, 11466.07745495,  5121.61465417,  4895.5662483 ,\n",
       "        3994.0617763 ,  5885.95543211,  7024.87791482,  5407.27390085,\n",
       "        1328.09072856,  1884.69954506,  4514.44992284,  3026.51859509,\n",
       "        5569.12470584,  6950.69523541,  2731.16066665,  2448.89267053,\n",
       "        5152.20154915,   952.73662179,  5461.95124769,  1288.3735925 ,\n",
       "        4537.10457149,  6318.7682588 ,  3591.80288894,  5314.53102725,\n",
       "        5743.28228037,  7985.84027426,  3526.49661541,  5364.35711898,\n",
       "        4180.63494286,  3118.96267043,  5048.7573728 ,  6901.65090685,\n",
       "        6575.32344871,  5978.73601362,  5971.25057229,  7024.99563516,\n",
       "        1762.20393745,  2798.20963834,  3983.48890158,  4581.92535452,\n",
       "        4589.68490699,  4285.60744022,  5914.47756002,  7133.88097156,\n",
       "        4853.26207643,  6765.99830788,  5735.94234636,  7165.55596118,\n",
       "        4858.50476767,  5203.01217092,  4513.54199364,  2510.07617303,\n",
       "        1657.40499296,  6641.73376583,  3429.92138921,  5379.01287435,\n",
       "        7599.30068308,  7205.1898136 ,  4242.70960807,  1976.34377841,\n",
       "        2839.06394226,  2130.75761618,  5432.18420246,  4183.74962523,\n",
       "        5762.57067676,  6064.23068743,  2151.52477388,  6292.91838819,\n",
       "        5236.2075458 ,  2370.34390421,  9124.06771203,  2927.26885684,\n",
       "        4555.40376333,  6741.24965589,  5304.93265246,  8823.34232894,\n",
       "        6118.8466681 ,  3674.06780963,  5747.98725552,  5865.73291759,\n",
       "        5837.49778778,  5735.18446709,  4476.75702279,  5145.35782734,\n",
       "        3895.74839232,  7065.99024785,  5083.04975949,  3990.31413852,\n",
       "         696.7062883 ,  3566.23101448,  5295.71664349,  4922.4239494 ,\n",
       "        2745.66492672,  3030.49248908,  5673.62203937,  5436.75689612,\n",
       "        5247.71685542,  6316.97531358,  7449.55463442,  7741.81726274,\n",
       "        5501.92064075,  3169.74702321,  7251.37432463,  4912.99810897,\n",
       "        3388.37492301,  4266.35657664,  3561.34642168,  3536.13216031,\n",
       "        8322.04929091,  2926.18422434,  7143.68940068,  5992.03517759,\n",
       "        6816.82577233,  -431.25895165,  4566.01459147,  3154.13429614,\n",
       "        2897.69461135,  7652.11403925,  4464.46749028,  6708.27431972,\n",
       "        8286.20815236,  3466.11472352,  7523.76321412,  6710.25129552,\n",
       "        4135.43453388,  2470.08539199,  3122.83794103,  1837.59359909,\n",
       "        3591.9618622 ,  4737.29412271,  5936.53676162,  5158.03343339,\n",
       "        6945.35110318,  3453.58698344,  4952.63052277,  5636.40067856,\n",
       "        8968.52692724,  3430.62465659,  5422.10248568,  4042.85940412,\n",
       "        4530.61294834,  6099.51384472,  7741.27876494,  4869.02798951,\n",
       "        7386.00709235,  7437.48061415,  3957.29964672,  7623.3337894 ,\n",
       "        5314.01108661,  8561.83737267,  5274.81837395,  4558.84314827,\n",
       "        4099.47598398,  1126.61160774,  4073.62539063,  4785.28123196,\n",
       "        6156.07715796,  1906.59478909,  6239.1169284 ,   990.86113091,\n",
       "        7153.63664908,  4881.81132877,  4556.8717629 ,  6227.99608239,\n",
       "        8718.40780783,  4217.9691587 ,  6597.81507975,  7992.12690296,\n",
       "        1257.62571763,  5624.03458752,  3302.27029274,  2076.50263666,\n",
       "        3707.814813  ,  2817.82022741,  2205.40522131,  3649.7624715 ,\n",
       "        4645.22071426,  7825.55275463,  4722.14725028,  9536.37288764,\n",
       "        2300.48649946,  4575.87362978,  5883.99972261,  5917.48651874,\n",
       "        6448.16226777,  2162.91007978,   998.03950769,  4776.99246104,\n",
       "        6642.2259548 ,  7690.83864538,  5229.84774292,  6709.9487521 ,\n",
       "        7994.81515576,  5986.31093221,  4198.6891943 ,  1457.30349777,\n",
       "        2994.25290392,  5783.49529525,  4629.31411671,  5321.82653116,\n",
       "        3105.3696708 ,  4972.13268535,  3377.57073377,  6745.69785391,\n",
       "        7040.52778204,  6066.10879702,  6538.83157896,  6566.91539593,\n",
       "        2160.59301466,  7021.30463764,  4900.00734437,  5787.27789572,\n",
       "        3969.29432212,  1093.58460959,  2414.77078209,  4144.29889918,\n",
       "        7224.95970617,  6762.04536727,  5097.63250381,  2805.1968402 ,\n",
       "        3520.35312229,  6488.96115191,   -77.0952165 ,  4508.72734681,\n",
       "        3159.16929895,  7883.19491602,  7953.40374043,  3010.38209811,\n",
       "        5587.61813405,  3377.91879947,  8992.45918346,  5559.91180444,\n",
       "        3612.7140517 ,   291.15193775,  3831.68055   ,  6775.93938729,\n",
       "        4483.61612185,  4421.52319518,  7561.26676435,  6185.24325117,\n",
       "        5692.75652769,  7595.34828249,  4759.34373081,  6556.44511877,\n",
       "        6640.08311481,  7189.87650357,  6475.41119218,  6645.33298745,\n",
       "        1003.4715026 ,  7993.57048733,  3393.63230305,  5782.92624155,\n",
       "        5093.01273398,  6457.16117174,  4330.33975577,  4370.58346486,\n",
       "        6935.59486708,  2889.98491005,  2399.56201606,  2907.80516476,\n",
       "        4728.10463226,  2260.21955869,  1091.81077618,  2835.78154253,\n",
       "        6309.00147588,  3595.41743599,  5288.89308859,  3214.20508773,\n",
       "        6544.08850688,  4415.52170106,  5279.39224001,  2147.48285182,\n",
       "        8014.81005426,  4324.58303421,  1687.37230161,  5548.79564288,\n",
       "        7035.60185096,  7212.9311912 ,  5016.87432017,  5878.23827978,\n",
       "        2881.82307015,  3942.98804609,  6245.80503186,  4975.63232578,\n",
       "        4524.68134633,  4206.2139583 ,  8347.60665011,  6910.1198539 ,\n",
       "        2507.98097885,  5109.71829779,  1789.50310548,  5457.00326297,\n",
       "        5406.08038227,  3751.56761127,  6031.33660981,  8132.68885408,\n",
       "        5699.22236151,  5690.87208802,  8157.86348689,  9779.58824323,\n",
       "        6491.51645239,  4799.08741461,  5887.95192417,  1213.5666063 ,\n",
       "        6018.94683893,   993.53080792,  3409.708024  ,  7155.92634251,\n",
       "        4396.44665036,  7813.08358913,  3242.30580712,  7393.67244265,\n",
       "        4647.07291376,  6777.64893402,  6703.99894612,  5103.28077879,\n",
       "        1622.37563225,  4310.86808972,  6735.62717521,  4567.61581834,\n",
       "        6330.35216749,  3963.67315166,  4137.72324686,  3097.68905184,\n",
       "        2732.66024256,  4320.55989979,  4524.33570777,  4640.2442821 ,\n",
       "        1602.04785657,  6291.56657215,  2693.68582188,  6204.87167369,\n",
       "        4965.2338524 ,  3644.66981441,  4112.3770861 ,  4690.61304165,\n",
       "        2969.87232927,  3097.44197134,  3528.75693509,  6078.64771693,\n",
       "        6852.83734125,  5548.94158648,  3461.28736697,  3185.6149731 ,\n",
       "        2169.90133924,  8565.19891578,  5856.11376975,  6262.84452702,\n",
       "        5047.79444451, 10772.42407103,  7714.93907595,  4098.5576609 ,\n",
       "        2698.171291  ,  3323.96318874,  4743.58504355,  3995.17783604,\n",
       "        4471.06838182,  5793.36148254,  4967.80844639,  7271.16514651,\n",
       "        2749.74832573,  4844.28786415,  5919.34958295,  3525.26966336,\n",
       "        3253.89524699,  4665.45432949,  4117.31397826,  6204.15208061,\n",
       "        6823.61218399,  3660.96540476,  4204.28607181,  7350.19170327,\n",
       "        1929.54700171,  6261.82622243,  3295.32278088,  6258.35787618,\n",
       "        2713.65429911,  3678.84866148,  8132.0655436 ,  3336.32251775,\n",
       "        6081.09670891,  2938.33181233,  7417.0540391 ,  7463.51711142,\n",
       "        4565.24376431,  7344.01258527,  4787.52104467,  4889.37701923,\n",
       "        9052.31071488,  4943.47368643,  6361.8455701 ,  2319.03517072,\n",
       "        5862.56164373,  5418.65125131,  3629.49333318,  3002.27796797,\n",
       "        4072.23195909,  2736.19864797,  4728.61170653,  6105.53026623,\n",
       "        7086.03098037,  4532.82876092,  5831.9521291 ,  4369.76889347,\n",
       "        4835.83916807,  5413.82306041,  5951.28924842,  1947.8811352 ,\n",
       "        6333.63661025,  6039.48579372,   434.24005864,  6586.09154937,\n",
       "        3399.21044525,  6728.64326803,  7017.61879588,  5554.53304947,\n",
       "        7675.25436638,  4025.94084506,  6868.20142483,  4326.74033043,\n",
       "        1588.2665094 ,  3821.46806955,  3076.695908  ,  4032.67079834,\n",
       "        6905.99875068,  3903.90644783,  3592.20392939,  7188.38667277,\n",
       "        3811.10497221,  8390.68088951,  7185.11995106,  4405.75940169,\n",
       "        6915.14716162,  4272.7228053 ,  2855.13676256,  6327.11993806,\n",
       "        6708.64920224,  2695.83035097,  2647.3487311 ,  1726.98908745,\n",
       "        6386.14407944,  6650.66219949,  3740.74065009,   796.39335489,\n",
       "        2652.30009092,  1287.90199515,  3978.83171917,  2643.30804215,\n",
       "        4204.97607018,  1283.51603514,  4935.089163  ,  3062.85424284,\n",
       "        4033.48383635,  3680.22737712,  3561.32819964,  6734.65076039,\n",
       "        3740.54871691,  4064.69905319,  5840.32252958,  4057.30396488,\n",
       "        9029.0822389 ,  7195.58071757,  4504.31263825,  2588.60406166,\n",
       "        3302.26487295,  5727.57772224,  7240.06191915,  2531.79043657,\n",
       "        3275.81738523,  2896.519473  ,  5208.29483033,  4077.74400039,\n",
       "        6694.53624767,  2396.07062265,  4336.36792896,   956.84627859,\n",
       "        8764.62354442,  4724.23590788,  5606.43478415,  4950.16588033,\n",
       "        6593.0255015 ,  4426.16927781,  2117.63434529,  4375.78317844,\n",
       "        8280.02997598,  3592.51283275,  4068.29005976, 10409.29762423,\n",
       "        5645.02672016,  6547.42411485,  8007.61756403,  9067.32360897,\n",
       "        6559.18951344,  6566.18687859,  4020.84947299,  4315.33571198,\n",
       "        4384.33339886,   381.29482175,  9348.97268929,  4643.1143802 ,\n",
       "        1622.13261741,  2877.39461063,  6450.43871604,  2691.45004668,\n",
       "        6370.3028461 ,  5950.00703048,  5147.8767267 ,  3735.6599029 ,\n",
       "        7815.57146724,  2644.63211808,  6297.02840538,  3766.52435974,\n",
       "        2675.9106426 ,  6871.3182621 ,  6799.34350924,  6070.85910392,\n",
       "        4414.12155355,  3924.43090947,  1064.99612695,  6500.8099196 ,\n",
       "        7449.63450671,  5688.05130799,  8775.35563717,  7240.7624135 ,\n",
       "        1917.71143963,  4943.08109654,  5465.97403042,  3942.20322251,\n",
       "        6412.57147798,  5278.25433649,  4157.6480123 ,  5925.20729237,\n",
       "        4057.29008104,  5093.64047428,  4000.49086884,  6843.85078632,\n",
       "        4920.13290789,  4571.75109424,  4034.22060777,  4208.7613141 ,\n",
       "        7883.35023033,  5607.58219825,  2326.15397181,  5777.22820143,\n",
       "        2606.22869039,  3299.54323937,  6687.39529702,  2698.00680337,\n",
       "        2503.82524959,  6748.02070582,  3387.94764466,  4683.65275747,\n",
       "        6746.04275309,  2421.36189463,  7933.25481213,  5190.16782543,\n",
       "        2008.69865219,  3635.35672996,  4996.08507953,  3769.52506892,\n",
       "        3507.9730037 ,  1633.13092011, 10327.81749179,  3253.76614694,\n",
       "        6580.44550736,  3833.48055123, 10654.76553208,  6701.8387247 ,\n",
       "        5906.0713754 ,  3915.96012618,  3848.15550082,  4457.68333918,\n",
       "        5939.42076297,  5365.36284054,  2455.03716911,  5296.92144119,\n",
       "        8102.56769328,  3439.2202404 ,  7406.07160274,  2591.46874244,\n",
       "        2961.9588168 ,  7190.08785166,  5576.63970869,  3277.20948934,\n",
       "        5353.67804193,  6067.01675303,  4141.54000597,  3633.80621049,\n",
       "        6053.12720756,  3210.35845495,  5727.99963418,  7316.66185155,\n",
       "        8703.15192417,  1420.67267363,  7187.53661494,  2530.80840848,\n",
       "        4559.68208861,  4664.56179838,  5264.95301505,  3874.47192487,\n",
       "        5234.71174672,  7923.65513405,  8295.48637145,  5943.3281995 ,\n",
       "        3480.90682181,  6204.26336761,  8563.76527161,  4956.81128767,\n",
       "        5324.30046858,  5910.99348406,  3983.30970128,  1322.34726024,\n",
       "        4804.51823893,  3933.18608781,  3959.32551412,  6111.79623087,\n",
       "        2150.96131839,  3581.03568591,  4653.85982933,  8210.2621197 ,\n",
       "        7324.54913366,  3338.0406589 ,  5381.62499737,  5521.38133377,\n",
       "        4425.03652282,  4398.99940578,  4703.35928405,  1619.86019121,\n",
       "        7251.17149234,  6492.1718833 ,  3770.56556519,  6132.10544205,\n",
       "        4578.46165826,  6999.93043898,  3401.92841205,  5298.79587244,\n",
       "        2387.61976758,  3057.4863462 ,  3372.56667192,  4811.80472335,\n",
       "        5611.69164954,  9381.58432846,  4585.67848114,  4129.78942764,\n",
       "        6486.59430636,  3517.93838875,  4990.2192319 ,  6756.63305036,\n",
       "        8094.84446986,  7538.65789317,  4168.1282185 ,  9236.90780538,\n",
       "        3242.11140254,  5929.0298883 ,  6339.88495848,  7769.90752134,\n",
       "        8478.36755922,  5466.09963384,  5305.5034499 ,  3454.76212677,\n",
       "        3919.75487982,  3319.03684364,  6515.60483171,  5849.78204492,\n",
       "        4006.41322272,  6624.97770777,  3046.73723138,  5361.90608651,\n",
       "        3940.94392181,  6205.56826561,  6056.55192388,  6578.84394091,\n",
       "        7535.9140887 ,  4898.89534656,  4268.71074112,  4491.99451272,\n",
       "        4750.38376573,  3701.02035774,  5162.10242976,  6205.55494317,\n",
       "        6950.91458209,  8302.40517866,  5119.23198753,  2152.27558976,\n",
       "        3466.27214581,  6920.24995558,  1994.86311075,  4894.68327983,\n",
       "        1906.93696812,  5039.68223471,  7939.4654003 ,  2924.27424135,\n",
       "        3399.64971988,  4551.26702101,  5640.80794963,  3084.64039065,\n",
       "        5399.15534196,  6158.65139022,  2585.07500267,  5267.85319197,\n",
       "        2108.0756854 ,  6528.96522601,  9209.72614842,  8467.67385811,\n",
       "        3718.28621695,  2219.71930669,  6630.3694432 ,  8741.76235548,\n",
       "        2670.38890786,  8130.88977323,  4772.56297241,  5654.65048039,\n",
       "        5452.73438499,  5549.88087413,  4273.70978722,  4714.91047653,\n",
       "        5901.48928925,  3395.56945295,  6316.44493262,  7791.89124174,\n",
       "        3408.11092399,  4978.61792173,  7225.52200044,  5238.65444224,\n",
       "        6778.27566024,  5385.44886304,  2745.17332607,  7725.21238576,\n",
       "        5004.30389152,  5314.44279893,  7624.14537675,  5523.60108202,\n",
       "        2391.51166399,  2634.11556448,  3592.50949883,  4454.5450237 ,\n",
       "        2399.12955237,  6279.66540781,  3956.21954873,  5534.05638274,\n",
       "        1224.7150796 ,  9310.99965818,  4703.08091107,  5336.34026947,\n",
       "        6364.97498006,  9345.61578087,  7185.4982691 ,  5851.26497342,\n",
       "        4946.61673227,  6967.01035006,  6754.09758592,  5922.18953877,\n",
       "        8702.13110118,  6071.54435405,  2723.4338513 ,  2602.80842536,\n",
       "        2395.34165824,  5987.43107395,  6691.00659113,  8006.80231102,\n",
       "        4588.08105559,  2773.0329143 ,  5011.19944578,  6672.18196601,\n",
       "        4346.52499811,  1574.63639691,  5248.94138001,  4185.25417154,\n",
       "        2410.78286487,  8964.42842659,  7306.96527148,  4162.50015236,\n",
       "        3346.15982379,  6907.9510891 ,  5045.51458832,  2793.37317612,\n",
       "        5148.25631898,  7493.77661233,  8028.05657567,  5305.32555882,\n",
       "        4873.14476707,  8251.185203  ,  6082.59212386,  7721.21602533])"
      ]
     },
     "execution_count": 50,
     "metadata": {},
     "output_type": "execute_result"
    }
   ],
   "source": [
    "# Random kullanarak sample bir veri setini kendimiz oluşturalım\n",
    "# Aylık gelir 5000 TL standard deviation 2000 TL olsun 1000 kişinin random aylık gelirini oluşturalım:\n",
    "\n",
    "gelirler = np.random.normal(5000, 2000, 1000)\n",
    "gelirler"
   ]
  },
  {
   "cell_type": "markdown",
   "id": "91910edd-622c-4191-b64f-518b696f144d",
   "metadata": {},
   "source": [
    "# varyans hesaplama "
   ]
  },
  {
   "cell_type": "code",
   "execution_count": 14,
   "id": "80a9c28f",
   "metadata": {},
   "outputs": [
    {
     "data": {
      "text/plain": [
       "3845909.631824157"
      ]
     },
     "execution_count": 14,
     "metadata": {},
     "output_type": "execute_result"
    }
   ],
   "source": [
    "gelirler.var()"
   ]
  },
  {
   "cell_type": "markdown",
   "id": "0186c4ea-3361-4d57-b797-3e21be630468",
   "metadata": {},
   "source": [
    "# standart sapma hesaplama "
   ]
  },
  {
   "cell_type": "code",
   "execution_count": 16,
   "id": "b5c29515",
   "metadata": {},
   "outputs": [
    {
     "data": {
      "text/plain": [
       "1961.0990877118263"
      ]
     },
     "execution_count": 16,
     "metadata": {},
     "output_type": "execute_result"
    }
   ],
   "source": [
    "gelirler.std()"
   ]
  },
  {
   "cell_type": "code",
   "execution_count": 18,
   "id": "acff6bf3",
   "metadata": {},
   "outputs": [
    {
     "data": {
      "text/plain": [
       "4857.497924846803"
      ]
     },
     "execution_count": 18,
     "metadata": {},
     "output_type": "execute_result"
    }
   ],
   "source": [
    "np.mean(gelirler)"
   ]
  },
  {
   "cell_type": "code",
   "execution_count": null,
   "id": "5e301479",
   "metadata": {},
   "outputs": [],
   "source": []
  },
  {
   "cell_type": "code",
   "execution_count": null,
   "id": "1e31ef5c",
   "metadata": {},
   "outputs": [],
   "source": []
  },
  {
   "cell_type": "code",
   "execution_count": null,
   "id": "cb6b8c01",
   "metadata": {},
   "outputs": [],
   "source": []
  },
  {
   "cell_type": "code",
   "execution_count": null,
   "id": "1f4bb0b7",
   "metadata": {},
   "outputs": [],
   "source": []
  },
  {
   "cell_type": "code",
   "execution_count": null,
   "id": "3422688a",
   "metadata": {},
   "outputs": [],
   "source": []
  },
  {
   "cell_type": "code",
   "execution_count": 20,
   "id": "16a6bdf3",
   "metadata": {},
   "outputs": [
    {
     "data": {
      "image/png": "[encoded data removed]",
      "text/plain": [
       "<Figure size 640x480 with 1 Axes>"
      ]
     },
     "metadata": {},
     "output_type": "display_data"
    }
   ],
   "source": [
    "import matplotlib.pyplot as plt\n",
    "plt.hist(gelirler, 100)\n",
    "plt.show()"
   ]
  },
  {
   "cell_type": "markdown",
   "id": "802c3650-4a4c-499a-8d42-617ac8603132",
   "metadata": {},
   "source": [
    "#ortanca değerimiz "
   ]
  },
  {
   "cell_type": "code",
   "execution_count": 22,
   "id": "f47ece65",
   "metadata": {},
   "outputs": [
    {
     "data": {
      "text/plain": [
       "4824.548307729954"
      ]
     },
     "execution_count": 22,
     "metadata": {},
     "output_type": "execute_result"
    }
   ],
   "source": [
    "np.median(gelirler) "
   ]
  },
  {
   "cell_type": "code",
   "execution_count": 25,
   "id": "3d315c6e",
   "metadata": {},
   "outputs": [
    {
     "data": {
      "text/plain": [
       "104752.74517966712"
      ]
     },
     "execution_count": 25,
     "metadata": {},
     "output_type": "execute_result"
    }
   ],
   "source": [
    "# Herşey şimdiye kadar çok güzeldi ancak diyelim ki Bill Gates de tesadüfen bizim veri setimizin içine girse:\n",
    "gelirler = np.append(gelirler, [100000000])\n",
    "\n",
    "np.mean(gelirler) #ortalama yükseldi "
   ]
  },
  {
   "cell_type": "markdown",
   "id": "d8585be1-6ac5-447d-85b9-f5546cef2c07",
   "metadata": {},
   "source": [
    "### ortalama ile medyan arasında çok ffazla fark varsa o zaman veri setinde hata olabilir kontrol et eşit dağılmamış olabilir veriler\n",
    "\n"
   ]
  },
  {
   "cell_type": "code",
   "execution_count": 29,
   "id": "7065143b",
   "metadata": {},
   "outputs": [
    {
     "data": {
      "text/plain": [
       "4825.3617568462905"
      ]
     },
     "execution_count": 29,
     "metadata": {},
     "output_type": "execute_result"
    }
   ],
   "source": [
    "np.median(gelirler)    # Bazen Median değeri daha doğru sonuç verebilir, her şey veri setinize bağlı!"
   ]
  },
  {
   "cell_type": "code",
   "execution_count": 46,
   "id": "3668cca6",
   "metadata": {},
   "outputs": [
    {
     "data": {
      "text/plain": [
       "ModeResult(mode=10, count=35)"
      ]
     },
     "execution_count": 46,
     "metadata": {},
     "output_type": "execute_result"
    }
   ],
   "source": [
    "# Mode:\n",
    "# okuldaki çocukların ortalama yaş değerleri random oluşturalım, toplam 300 öğrenci, yaşlar 7 ile 18 arasında\n",
    "yaslar = np.random.randint(7,18, size=300)\n",
    "\n",
    "from scipy import stats\n",
    "stats.mode(yaslar)"
   ]
  },
  {
   "cell_type": "code",
   "execution_count": 48,
   "id": "abc78358",
   "metadata": {},
   "outputs": [
    {
     "data": {
      "text/plain": [
       "12.0"
      ]
     },
     "execution_count": 48,
     "metadata": {},
     "output_type": "execute_result"
    }
   ],
   "source": [
    "np.median(yaslar)"
   ]
  },
  {
   "cell_type": "markdown",
   "id": "eeaba88c",
   "metadata": {},
   "source": []
  },
  {
   "cell_type": "code",
   "execution_count": null,
   "id": "a11c716d",
   "metadata": {},
   "outputs": [],
   "source": []
  },
  {
   "cell_type": "code",
   "execution_count": null,
   "id": "e70a603b",
   "metadata": {},
   "outputs": [],
   "source": []
  },
  {
   "cell_type": "code",
   "execution_count": null,
   "id": "36a28fff",
   "metadata": {},
   "outputs": [],
   "source": []
  },
  {
   "cell_type": "code",
   "execution_count": null,
   "id": "ed8ac898",
   "metadata": {},
   "outputs": [],
   "source": []
  }
 ],
 "metadata": {
  "kernelspec": {
   "display_name": "Python [conda env:base] *",
   "language": "python",
   "name": "conda-base-py"
  },
  "language_info": {
   "codemirror_mode": {
    "name": "ipython",
    "version": 3
   },
   "file_extension": ".py",
   "mimetype": "text/x-python",
   "name": "python",
   "nbconvert_exporter": "python",
   "pygments_lexer": "ipython3",
   "version": "3.12.3"
  }
 },
 "nbformat": 4,
 "nbformat_minor": 5
}
