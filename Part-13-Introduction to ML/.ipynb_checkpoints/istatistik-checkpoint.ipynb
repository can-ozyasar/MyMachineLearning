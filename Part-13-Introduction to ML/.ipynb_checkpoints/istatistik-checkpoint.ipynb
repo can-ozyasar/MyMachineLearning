{
 "cells": [
  {
   "cell_type": "markdown",
   "id": "3672a698",
   "metadata": {},
   "source": [
    "<H1> Mean, Median ve Mod Python Örnekli Uygulamaları </H1>"
   ]
  },
  {
   "cell_type": "code",
   "execution_count": 1,
   "id": "98401127",
   "metadata": {},
   "outputs": [],
   "source": [
    "import numpy as np"
   ]
  },
  {
   "cell_type": "code",
   "execution_count": 12,
   "id": "875cae1b",
   "metadata": {},
   "outputs": [
    {
     "data": {
      "text/plain": [
       "array([ 8254.29426339,  7743.19326477,  6496.28315856,  6149.36257388,\n",
       "        9132.44840712,  7627.96825002,  4786.11411157,  9025.47813022,\n",
       "        2921.66876535,  7451.74221178,  4912.74923353,  5432.88850972,\n",
       "        5856.81193506,  5735.06006006,  4388.33468208,  4400.78359335,\n",
       "        5800.31496278,  6455.60908938,  3216.17252861,  2968.25569337,\n",
       "        2164.34673448,  1614.9845001 ,  5593.91026073,  5281.0722964 ,\n",
       "        3355.01920046,  4121.05789259,  9383.73800104,  4688.26065142,\n",
       "        2562.99906255,  2281.34687842,  5717.73822956,  4259.4763837 ,\n",
       "        2682.19642725,  5480.20165072,  4963.21381708,  5592.73671923,\n",
       "        6684.08688175,  5102.52734114,  6357.04314694,  7792.21341174,\n",
       "        8899.84786311,  4688.06764322,  4280.43985337,  1137.12376986,\n",
       "        4558.77595262,  6291.48510218,  3977.29623544,  5772.99223859,\n",
       "        7544.80479886,  6397.94017342,  3882.9831896 ,  3077.31670939,\n",
       "        4155.42623552,  6222.32854594,  2232.24233906,  5702.44157769,\n",
       "        4290.17067432,  6674.00976174,  8374.89142578,  5599.82682075,\n",
       "        4720.71510501,  8500.85734453,  4769.25577298,  6482.97079916,\n",
       "        4056.1827512 ,  5592.83453421,  3839.476036  ,  3370.3568939 ,\n",
       "        1592.76303161,  7788.70694435,  2780.96581097,  2842.75441379,\n",
       "        2399.13939077,  3681.7544034 ,  6486.67984255,  4946.02591649,\n",
       "        4495.66441118,  2823.96321328,  1529.36334924,  4987.83477606,\n",
       "        4365.66195103,  2767.59003363,  1443.6948279 ,  7885.6073985 ,\n",
       "        6405.79477234,  6956.63997397,  3655.39602658,  6620.38081914,\n",
       "        3980.53891185,  4240.89225189,  -586.37332308,  5568.24899098,\n",
       "        7308.98317954,  2359.53792583,  5178.78778074,  6474.83125735,\n",
       "        3493.35221913,  8367.90434677,  6380.93351109,  3577.18497602,\n",
       "        5099.21743779,   776.26981002,  5837.01870858,  7643.19269263,\n",
       "        7673.03751225,  6765.93694997,  5870.6198045 ,  6248.19242606,\n",
       "        2450.56288653,  1917.76506427,  5957.31287726,  4127.64280704,\n",
       "        9358.98330491,  5072.14002756,  4263.46902073,  5976.50594388,\n",
       "        6636.22126481,  3693.25467985,  2854.2270052 ,  6692.07279223,\n",
       "        5491.19053674,  3326.99328224,  4442.54818001,  8187.83610613,\n",
       "        4591.17950564,  4573.10898439,  4247.10642847,  3509.41051661,\n",
       "        5673.43537126,  4781.16832646,  6470.67450836,  2575.7689022 ,\n",
       "        9843.36898946,  3398.9259771 ,  6803.04171373,  3125.54678512,\n",
       "        5656.55514711,  5796.32258743,  7725.52942135,  3307.5758711 ,\n",
       "        3542.79636725,  6857.06567225,  6498.02396082,  3501.6853975 ,\n",
       "        2819.90423945,  5111.99431739,  5439.97124156,  7955.0717097 ,\n",
       "        9263.98593471,  5848.32275698,  5390.32582913,  4600.68919806,\n",
       "        7659.49536178,  5741.10759899,  6963.77768612,  3711.08083965,\n",
       "        3345.45899987,  7527.5445122 ,  9209.15686076,  4461.6015799 ,\n",
       "        6805.69109322,  5262.17462188,  3269.23935359,  6174.60309399,\n",
       "        1727.94768162,  4696.18974929,  2872.99763156,  2743.25187457,\n",
       "        3282.26397486,  4868.70361879,  5404.96644174,  4124.74129001,\n",
       "        8334.69830184,  6193.90063707,  3441.44081374,  6283.74597637,\n",
       "        8038.02297305,  4872.30323675,  4715.72794425,  3549.14406864,\n",
       "        3963.39273358,  7362.51713136,  5275.09642084,  5242.15947512,\n",
       "        3129.73925826,  6484.35869384,  3412.01983554,  3134.72899405,\n",
       "        3670.23027196,  6387.64138918,  4552.71663337,  1673.5590098 ,\n",
       "        2816.55587132,  3637.03478352,  6173.66966901,  6279.95086955,\n",
       "        1873.36260504,  2053.30414249,  2681.99316862,  1717.03066506,\n",
       "        4546.67559066,  5597.02037076,  4318.33162883,  5256.50646809,\n",
       "        3250.64484715,  8747.93855113,  2414.75456531,  7774.32516464,\n",
       "        4352.22095219,  3002.10374916,  3604.24056839,  7675.4243739 ,\n",
       "        8637.8264448 ,  3013.6465431 ,  4852.92602353,  4729.91685347,\n",
       "        4634.11649209,  5255.57029876,  5074.72730227,  2520.77010374,\n",
       "        3827.23226454,  5502.51465304,  5023.73238196,  5558.28936079,\n",
       "        4469.22617234,  6479.94683418,  2910.60624399,  3341.96961217,\n",
       "        5474.5610651 ,  7333.74714516,  3951.2675803 ,  1500.5578988 ,\n",
       "        7796.35701319,  1299.30622891,  4716.28396871,  6175.38093617,\n",
       "        3670.62574517,  5870.4932126 ,  3810.14725597,  -575.1111837 ,\n",
       "        1899.86236493,  4723.01022679,  5839.24050984,  6320.68551386,\n",
       "        6281.86285649,  4802.12670895,  1567.77794967,  5223.54491536,\n",
       "        5598.62726802,  -611.92897215,  7115.89627742,  5158.84163906,\n",
       "        7663.28872191,  5322.79029996,  4360.92814749,  6975.47700569,\n",
       "        4269.9074859 ,  7107.95367794,  2056.83339069,  5069.42944028,\n",
       "        3700.38354028,  5599.01838459,  2859.63932138,  7477.01970218,\n",
       "        9463.91912988,  3257.75046921,  6615.14190995,  5363.03775135,\n",
       "        3563.60431197,  7233.72006173,  4611.67959445,  7207.95659595,\n",
       "        2321.49924414,  2738.08765566,  4743.34130328,  2203.63438641,\n",
       "        6151.00668591,  3919.29970793,  3408.81569182,  6385.61947808,\n",
       "        3313.22556116,  5565.4575962 ,  3800.21313463,  6701.06678346,\n",
       "        2482.44845345,  3555.26453209,  5207.32486918,  1821.87329378,\n",
       "        3297.52397493,  3713.22141688,  9513.50065327,  2022.18274839,\n",
       "        5744.4356406 ,  3921.94667652,  7796.31262472,  5040.74901719,\n",
       "        4961.82292873,  4547.0049922 ,  6629.41503939,  5432.47796959,\n",
       "        5424.28912522,  6374.02294582,  2961.10209445,  2281.41350687,\n",
       "        1685.62821672,  5268.85903146,  4000.25846857,  3942.38420687,\n",
       "        5365.41575843,  2859.06733771,  6123.4825608 ,  4106.43216817,\n",
       "        5152.5013963 ,  2842.45158742,  4471.35022868,  3822.7866455 ,\n",
       "        9288.96490924,  4549.68555616,  2682.23670395,  4669.16359945,\n",
       "        4467.08970816,  5965.07906322,  3463.22592965,  7099.97884464,\n",
       "        7857.09543569,  8245.34701071,  3039.9794537 ,  3456.95044969,\n",
       "        3943.0503729 ,  6405.07450103,  4077.27410541,  3509.0310598 ,\n",
       "        6686.06014842,  2833.49755637,  5016.82955025,  6013.19130086,\n",
       "        3961.71550846,  2260.45566314,  8463.29154406,  6372.12075001,\n",
       "        5481.98891291,  5330.67462881,  6995.97605265,  3591.51914792,\n",
       "        2738.68365268,  3278.93025249,  1280.77596854,  7751.75707272,\n",
       "        7132.65043558,  7620.09526273,  6848.28540901,  6235.77168505,\n",
       "        8165.66082952,  8681.97120898,  6974.6149005 ,  5413.86977642,\n",
       "        6199.3723794 ,  4201.79434241,  1834.73568968,  2860.3524578 ,\n",
       "        5281.80728149,  1723.96420979,  5692.1871786 ,  5799.37200017,\n",
       "        2912.39834448,  7249.9910417 ,  3139.13286794,  4116.70496726,\n",
       "        4792.16363278,  3708.2208882 ,  3354.90435277,  1856.81593823,\n",
       "        5394.89014408,  3084.59177211,  5404.40636912,  3789.08044995,\n",
       "        5113.9178996 ,  3227.66944419,  9552.17521953,  2587.60678465,\n",
       "        1970.55190199,  6983.52141512,  7267.52560044,  5872.68052817,\n",
       "        7007.20389834,  5364.17765158,  4878.96342569,  4697.44088714,\n",
       "        5714.0133884 ,  7998.9933977 ,  6559.62280188,  3409.82100626,\n",
       "        9784.17378438,  4513.58973753,  4333.29734995,  2925.35126142,\n",
       "        5352.31480421,  6323.34132164,  2199.43268628,  1189.07572111,\n",
       "        5069.0910135 ,  8442.33719956,  5598.77244658,   501.51725909,\n",
       "        7219.72481169,  2202.79390071,  4520.31324973,  6357.87861426,\n",
       "        7336.97093127,  6601.77287506,  5835.65182626,  2807.65244516,\n",
       "        1908.97276251,  4039.03279047,  2224.1707031 ,  1970.59364496,\n",
       "        3841.1077637 ,  5038.552921  ,  6063.42125632,  3630.11424113,\n",
       "        4306.34882907,  5549.23841571,  5243.71147524,  5832.2450617 ,\n",
       "        5863.85383125,  4096.87910109,  5810.25738531,  6554.98856254,\n",
       "        4996.13543121,  5565.17842897,  7211.12208965,  6748.7724878 ,\n",
       "        4814.15730296,   985.65623503,  3793.82817901,  5968.81525507,\n",
       "        4072.02455871,  5334.04974098,  1991.60970046,  2865.12620335,\n",
       "        4218.76259356,  4372.25492514,  4859.15916376,  4703.37066221,\n",
       "        4915.28005433,  5645.33191687,  4360.13372734,   255.46132902,\n",
       "        3533.90690577,  1064.06355829,  5943.71752646,  4645.75608955,\n",
       "        8060.84482811,  2610.7744093 ,  5014.95949928,  2997.48673933,\n",
       "        6022.56533731, -1274.41170913,  5001.63887379,  4871.88027234,\n",
       "        5915.27552336,  4946.45089563,  6471.70649469,  3284.8556351 ,\n",
       "        4756.38130823, 10587.54392259,  4370.37456312,  6489.34143725,\n",
       "        2932.17708654,  3698.7597878 ,  4600.28837657,  1254.95203952,\n",
       "        3891.43820082, -1974.73980867,  4418.68032686,  2843.86469712,\n",
       "        9306.28175243,  5459.03899561,  5853.55864117,  3537.03358131,\n",
       "        5208.00615492,  1927.47634708,  2517.7359486 ,  6891.12709713,\n",
       "        7251.6330809 ,  2778.98642813,  6625.13462102,  6753.82331159,\n",
       "        5672.10577362,  2213.57633049,  3761.41356686,  4082.81014456,\n",
       "        3342.22113968,  3768.93092585,  3691.3466571 ,   403.72656835,\n",
       "        6909.56743072,  5162.58266339,  4515.68768365,  5146.66216203,\n",
       "        5120.55547056,  4493.66225396,  5814.16995802,  2655.79881285,\n",
       "        3216.71868569,  3604.47847054,  2456.89569904,  3828.78742073,\n",
       "        4418.18873456,  5456.45788465,  3137.41820422,  7798.29270538,\n",
       "        5373.39008393,  3898.9202081 ,  9632.14881435,  5035.21797424,\n",
       "        5378.27054417,  4224.0186119 ,  6422.5557133 ,  3007.5021356 ,\n",
       "        2337.97503806,  6604.46251659,  7426.79862101,  8193.51401554,\n",
       "        7433.08301636,  4135.1577052 ,  6514.86765347,  3701.54897915,\n",
       "        3747.45959267,  3984.54764229,  2889.29561179,  7271.64437256,\n",
       "        4097.5474925 ,  6091.26015134,  8026.79540207,  4556.01531859,\n",
       "        4132.23883313,  4043.42405773,  5300.00639311,  7217.86622773,\n",
       "        5254.49323254,   742.3492581 ,  7005.72248053,  3767.17770214,\n",
       "        3837.09574964,  6282.80716235,  2910.70708549,  7369.84483301,\n",
       "        4258.50973455,  8328.84648347,  6397.30714306,  3271.34681126,\n",
       "        6328.78407895,  3209.70874621,  3814.7031912 ,  6483.58104529,\n",
       "        5778.93445116,  6052.81129964,  5336.05638063,  5512.45393961,\n",
       "        7679.08388837,  3698.91482994,  4790.58366761,  6676.09082274,\n",
       "        4657.90036765,  4842.76396952,  5428.43635539,  6129.84728183,\n",
       "        5644.19441154,  6105.97413538,  5160.19617406,  3712.17970845,\n",
       "        5119.48841661,  5131.06729886,  3533.70942922,  6480.16941862,\n",
       "        3632.1744804 ,  3055.96419905,  4741.82603996,  5732.37586484,\n",
       "        3553.61128252,  3899.1917842 ,  4306.12736127,  4421.27901248,\n",
       "        3968.43346699,  5456.41687607,  5978.8808998 ,  5570.81977815,\n",
       "        4920.52662473,  4107.32676686,  3685.95851845,  8022.228715  ,\n",
       "        2275.20966573,  5847.97398468,  4275.22612096,  4960.44208031,\n",
       "        4678.43252393,  5191.81222905,  6415.78906783,  7051.57319422,\n",
       "        4630.62319487,  5024.69397719,  4619.34802184,  7520.38541492,\n",
       "        4140.77848859,  1697.31772507,  6249.18021289,  2670.33383284,\n",
       "        3861.89627488,  3086.72083326,   857.95937529,  2918.6508312 ,\n",
       "          73.16808021,  2908.16421189,  4414.81717603,  4364.86562554,\n",
       "        7866.62385733,  -318.68454085,  3045.09878126,  2152.3425449 ,\n",
       "        3403.80798096,  5705.72911162,  3385.00606428,  5310.53750511,\n",
       "        7856.95211205,  8082.60407439,   317.57651518,  4982.22220777,\n",
       "        6165.27238986,  4208.83230888,  5271.37106748,  4518.10901498,\n",
       "        6485.08389477,  4574.29914154,  5948.50308886,  1908.41625409,\n",
       "        3574.47854116,  5055.32647009,  7645.34818955,  2525.89083948,\n",
       "        3862.16836929,  4433.3235548 ,  4279.57948137,  3621.12681153,\n",
       "        7227.05905925,  6101.81977646,  6143.19660934,  7724.25064252,\n",
       "        4501.71244416,  3615.57038215,  3552.03981228,  3076.0106233 ,\n",
       "        6696.96119882,  6024.33103257,  4653.84922691,  5353.92605997,\n",
       "        9868.64294412,  5642.27913031,  7011.86654774,  3423.08510836,\n",
       "        5806.2251925 ,   328.70599945,  6265.5392636 ,  3936.15246805,\n",
       "        7058.59508447,  7543.31665853,  4801.8394485 ,  5488.46152145,\n",
       "        7670.091849  ,  5854.49200981,  2445.33815863,  4016.90578574,\n",
       "        4815.07732649,  7032.30768031,  7058.95078556,  2260.23849294,\n",
       "        6538.89929804,  5499.14182946,  4585.49410097,  4444.6746824 ,\n",
       "        7542.24991691,  4600.7615915 ,  1439.59277932,  7735.95471053,\n",
       "        3192.82701926,  3292.2173845 ,  3485.55721714,  4204.28885028,\n",
       "        6524.85491302,  4035.66984896,  2553.71301416,  2699.7407531 ,\n",
       "        2785.93781737,  6365.92597694,  4653.04595259,  5152.35231774,\n",
       "        5410.71839515,  3006.58736735,  3498.94255486,  6290.17324455,\n",
       "        5705.00738805,  9371.65984948,  4754.94541148,  3447.72391923,\n",
       "        4188.32676219,  1457.60721839,  4218.61799309,  6458.0746302 ,\n",
       "        5906.02058635,  2994.8911136 ,  2423.94542149,  5421.211492  ,\n",
       "        6919.88183457,  2850.16756747,  5054.63226735,  4670.98318903,\n",
       "        3408.32888949,  2642.77412513,  2975.65350776,  5412.27380047,\n",
       "        4687.07086593,  1241.99031622,  5637.56596068,  2578.86466585,\n",
       "        2866.68855771,  5604.4548966 ,  4823.73485861,  5543.30578828,\n",
       "        2895.07409867,  7624.66145736,  7312.95797492,  4095.96444641,\n",
       "        6149.69143345,  3767.42105224,  1939.59723132,   956.85666147,\n",
       "        4541.04439406,  6286.09750156,  6157.12813468,  3686.82362342,\n",
       "        4439.60764435,  9066.93630731,  5839.24066054,  5139.21610767,\n",
       "        5042.4797547 ,  6060.90605824,  4343.37160915,  4885.83123378,\n",
       "        5652.48777309,  4319.47315351,  3764.00496089,  4465.07349673,\n",
       "        2917.76883449,  5279.87728633,  8316.75003191,  9039.38924061,\n",
       "        5862.651864  ,  4019.02313569,  8952.90647559,  5530.96383645,\n",
       "        6682.08922593,  5136.86066976,  2635.04914138,  8436.2423491 ,\n",
       "        3584.78698931,  1269.53729355,  3597.6750303 ,  5950.34417804,\n",
       "        5413.06511804,  4582.46968258,  6074.63550616,  2621.79564487,\n",
       "        3952.54725943,  1604.80891037,  4855.78922408,  6217.52766964,\n",
       "        3652.21208949,  7718.72809254,  5905.03302737,  3965.21785904,\n",
       "        8658.9019547 ,  6636.87036224,  5524.5675299 ,  8680.11714555,\n",
       "        4614.76899723,  4828.14125749,  3499.01357834,  5277.39427862,\n",
       "        3704.77417365,  7669.77106944,  3029.17563939,  5181.85232967,\n",
       "        4412.05570843,  5413.78504687,  5759.2289511 ,  3740.18754402,\n",
       "        5475.26279908,  1574.96614257,  1333.45443661,  2014.75347492,\n",
       "        2383.19166706,  3399.76469935,  7699.43642207,  5264.36327612,\n",
       "        2613.64304607,  4103.18636156,  4403.08385622,  4557.00645457,\n",
       "        4826.49078575,  3902.08023224,  2586.94820669,  5235.00780679,\n",
       "        2737.51083536,  1638.44403878,  6679.42954485,  4961.06547012,\n",
       "        3309.62657464,  3249.52751912,  5687.65353944,  5604.85854847,\n",
       "        5364.38782612,  6837.92218169,  4508.40041589,  4539.65900841,\n",
       "        5929.92149222,  3439.15088754,  3784.05286579,  5443.48124049,\n",
       "        3340.80642793,  5641.76701585,  4676.60761386,  4455.52711065,\n",
       "        8604.68962239,  4479.40130209,  3968.02475216,  7192.49935012,\n",
       "        1429.05805284,  5558.4655136 ,  5833.77036792,  6760.1582738 ,\n",
       "        5906.41362806,  5919.97244678,  5779.47995005,  5593.96880137,\n",
       "        2762.98446903,  3196.62630836,  4365.0689791 ,  7235.51961382,\n",
       "        6493.41794186,  5572.54735858,   523.45854512,  2297.17380479,\n",
       "        6950.81034549,  5382.58454986,  8065.13071898,  3798.7735486 ,\n",
       "        5584.99372436,  4065.14932253,  4789.23393608,  6367.89068473,\n",
       "        6646.67655274, 11903.01644446,  6006.50825341,  3409.51165828,\n",
       "        6385.508761  ,  1472.6073368 ,  1763.12496303,  7009.474925  ,\n",
       "        3809.76806754,  6002.04942437,  3630.66016261,  1999.92026679,\n",
       "        7793.79294966,  6442.41558842,  3846.13321132,  3069.86186063,\n",
       "        4325.42152597,  3149.19586836,  3401.75818766,  4310.65995469,\n",
       "        4864.27497681,  1978.7342853 ,  4582.00288384,  3918.84757859,\n",
       "        9497.49187617,  6007.99002481,  5797.45684967,  5250.11952848,\n",
       "        4111.27191269,   884.24327453,  7085.83205961,  2695.17640084,\n",
       "        4506.28570331,  6421.70050999,  3224.81956888,  5328.33396016,\n",
       "        6683.44073319,  6152.56332727,  7622.12106161,  6700.71690369,\n",
       "        4616.37523025,  4975.102626  ,  4410.65387949,  6464.57418564,\n",
       "        8183.66018154,  6814.82008016,  2811.15616809,  9012.53228139,\n",
       "        5248.66607199,  1756.6001612 ,  7086.59735606,  2900.83051131,\n",
       "        5334.91481773,  3217.62629533,  3459.44641763,  1134.9061315 ,\n",
       "        3040.89451481,  7961.34216792,  4162.73216476,  4240.28208218,\n",
       "        5217.1767126 ,  3732.41502631,  4512.91374331,  4612.28622198,\n",
       "       10021.14984643,  3558.82575523,  5560.80239073,  5870.61053377,\n",
       "        2657.47972856,  1199.25686676,  3677.79104187,  6127.05338476,\n",
       "        3960.87085073,  5596.26695755,  3762.76321755,   827.34072479,\n",
       "        1323.40403462,  6215.87250547,  5768.50393717,  6152.48879303,\n",
       "        3883.81117099,  6836.19856559,  5148.90066186,  2982.49284626,\n",
       "        3257.77841498,  6074.88995982,  1248.53419014,  2176.8434311 ,\n",
       "        3318.38913362,  4802.66648652,  8454.16284961,  6954.45692973,\n",
       "        9023.56348589,  5144.07186834,  6389.89162107,  4967.45981111,\n",
       "        3636.4657623 ,  5081.71978494,  2025.04963476,  2303.0804344 ,\n",
       "        3208.69209889,  5997.0182321 ,  6001.1615249 ,  4232.40296857,\n",
       "        2554.23039035,  4825.36175685, 10170.33083735,  5036.56827569,\n",
       "        5528.58606148,  5175.42587629,  8878.99354861,  7523.97061937,\n",
       "        3402.30212226,  4959.83150882,  5830.08802564,  4217.84626055,\n",
       "        5938.6580387 ,  4023.35029897,  7387.93130985,  3416.32625746,\n",
       "        7221.84978456,  7101.4345728 ,  4367.79665324,  5321.52218856,\n",
       "        8273.23376004,  2465.3263599 ,  5201.98506145,  3351.23071431,\n",
       "        5211.84351721,  1547.01244569,  2805.31728373,  5664.13777798,\n",
       "        6158.67873287,  3791.57149955,  7416.83010108,  2439.93153032,\n",
       "        6627.63128053,   979.79770018,  6361.40892418,  7803.59828211])"
      ]
     },
     "execution_count": 12,
     "metadata": {},
     "output_type": "execute_result"
    }
   ],
   "source": [
    "# Random kullanarak sample bir veri setini kendimiz oluşturalım\n",
    "# Aylık gelir 5000 TL standard deviation 2000 TL olsun 1000 kişinin random aylık gelirini oluşturalım:\n",
    "\n",
    "gelirler = np.random.normal(5000, 2000, 1000)\n",
    "gelirler"
   ]
  },
  {
   "cell_type": "code",
   "execution_count": 14,
   "id": "80a9c28f",
   "metadata": {},
   "outputs": [
    {
     "data": {
      "text/plain": [
       "3845909.631824157"
      ]
     },
     "execution_count": 14,
     "metadata": {},
     "output_type": "execute_result"
    }
   ],
   "source": [
    "gelirler.var()"
   ]
  },
  {
   "cell_type": "code",
   "execution_count": 16,
   "id": "b5c29515",
   "metadata": {},
   "outputs": [
    {
     "data": {
      "text/plain": [
       "1961.0990877118263"
      ]
     },
     "execution_count": 16,
     "metadata": {},
     "output_type": "execute_result"
    }
   ],
   "source": [
    "gelirler.std()"
   ]
  },
  {
   "cell_type": "code",
   "execution_count": 18,
   "id": "acff6bf3",
   "metadata": {},
   "outputs": [
    {
     "data": {
      "text/plain": [
       "4857.497924846803"
      ]
     },
     "execution_count": 18,
     "metadata": {},
     "output_type": "execute_result"
    }
   ],
   "source": [
    "np.mean(gelirler)"
   ]
  },
  {
   "cell_type": "code",
   "execution_count": null,
   "id": "5e301479",
   "metadata": {},
   "outputs": [],
   "source": []
  },
  {
   "cell_type": "code",
   "execution_count": null,
   "id": "1e31ef5c",
   "metadata": {},
   "outputs": [],
   "source": []
  },
  {
   "cell_type": "code",
   "execution_count": null,
   "id": "cb6b8c01",
   "metadata": {},
   "outputs": [],
   "source": []
  },
  {
   "cell_type": "code",
   "execution_count": null,
   "id": "1f4bb0b7",
   "metadata": {},
   "outputs": [],
   "source": []
  },
  {
   "cell_type": "code",
   "execution_count": null,
   "id": "3422688a",
   "metadata": {},
   "outputs": [],
   "source": []
  },
  {
   "cell_type": "code",
   "execution_count": 20,
   "id": "16a6bdf3",
   "metadata": {},
   "outputs": [
    {
     "data": {
      "image/png": "[encoded data removed]",
      "text/plain": [
       "<Figure size 640x480 with 1 Axes>"
      ]
     },
     "metadata": {},
     "output_type": "display_data"
    }
   ],
   "source": [
    "import matplotlib.pyplot as plt\n",
    "plt.hist(gelirler, 100)\n",
    "plt.show()"
   ]
  },
  {
   "cell_type": "markdown",
   "id": "802c3650-4a4c-499a-8d42-617ac8603132",
   "metadata": {},
   "source": [
    "#ortanca değerimiz "
   ]
  },
  {
   "cell_type": "code",
   "execution_count": 22,
   "id": "f47ece65",
   "metadata": {},
   "outputs": [
    {
     "data": {
      "text/plain": [
       "4824.548307729954"
      ]
     },
     "execution_count": 22,
     "metadata": {},
     "output_type": "execute_result"
    }
   ],
   "source": [
    "np.median(gelirler) "
   ]
  },
  {
   "cell_type": "code",
   "execution_count": 25,
   "id": "3d315c6e",
   "metadata": {},
   "outputs": [
    {
     "data": {
      "text/plain": [
       "104752.74517966712"
      ]
     },
     "execution_count": 25,
     "metadata": {},
     "output_type": "execute_result"
    }
   ],
   "source": [
    "# Herşey şimdiye kadar çok güzeldi ancak diyelim ki Bill Gates de tesadüfen bizim veri setimizin içine girse:\n",
    "gelirler = np.append(gelirler, [100000000])\n",
    "\n",
    "np.mean(gelirler) #ortalama yükseldi "
   ]
  },
  {
   "cell_type": "markdown",
   "id": "d8585be1-6ac5-447d-85b9-f5546cef2c07",
   "metadata": {},
   "source": [
    "### ortalama ile medyan arasında çok ffazla fark varsa o zaman veri setinde hata olabilir kontrol et eşit dağılmamış olabilir veriler\n",
    "\n"
   ]
  },
  {
   "cell_type": "code",
   "execution_count": 29,
   "id": "7065143b",
   "metadata": {},
   "outputs": [
    {
     "data": {
      "text/plain": [
       "4825.3617568462905"
      ]
     },
     "execution_count": 29,
     "metadata": {},
     "output_type": "execute_result"
    }
   ],
   "source": [
    "np.median(gelirler)    # Bazen Median değeri daha doğru sonuç verebilir, her şey veri setinize bağlı!"
   ]
  },
  {
   "cell_type": "code",
   "execution_count": 46,
   "id": "3668cca6",
   "metadata": {},
   "outputs": [
    {
     "data": {
      "text/plain": [
       "ModeResult(mode=10, count=35)"
      ]
     },
     "execution_count": 46,
     "metadata": {},
     "output_type": "execute_result"
    }
   ],
   "source": [
    "# Mode:\n",
    "# okuldaki çocukların ortalama yaş değerleri random oluşturalım, toplam 300 öğrenci, yaşlar 7 ile 18 arasında\n",
    "yaslar = np.random.randint(7,18, size=300)\n",
    "\n",
    "from scipy import stats\n",
    "stats.mode(yaslar)"
   ]
  },
  {
   "cell_type": "code",
   "execution_count": 48,
   "id": "abc78358",
   "metadata": {},
   "outputs": [
    {
     "data": {
      "text/plain": [
       "12.0"
      ]
     },
     "execution_count": 48,
     "metadata": {},
     "output_type": "execute_result"
    }
   ],
   "source": [
    "np.median(yaslar)"
   ]
  },
  {
   "cell_type": "markdown",
   "id": "eeaba88c",
   "metadata": {},
   "source": []
  },
  {
   "cell_type": "code",
   "execution_count": null,
   "id": "a11c716d",
   "metadata": {},
   "outputs": [],
   "source": []
  },
  {
   "cell_type": "code",
   "execution_count": null,
   "id": "e70a603b",
   "metadata": {},
   "outputs": [],
   "source": []
  },
  {
   "cell_type": "code",
   "execution_count": null,
   "id": "36a28fff",
   "metadata": {},
   "outputs": [],
   "source": []
  },
  {
   "cell_type": "code",
   "execution_count": null,
   "id": "ed8ac898",
   "metadata": {},
   "outputs": [],
   "source": []
  }
 ],
 "metadata": {
  "kernelspec": {
   "display_name": "Python [conda env:base] *",
   "language": "python",
   "name": "conda-base-py"
  },
  "language_info": {
   "codemirror_mode": {
    "name": "ipython",
    "version": 3
   },
   "file_extension": ".py",
   "mimetype": "text/x-python",
   "name": "python",
   "nbconvert_exporter": "python",
   "pygments_lexer": "ipython3",
   "version": "3.12.3"
  }
 },
 "nbformat": 4,
 "nbformat_minor": 5
}
