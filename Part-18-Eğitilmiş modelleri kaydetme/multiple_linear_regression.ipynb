{
 "cells": [
  {
   "cell_type": "markdown",
   "id": "8a4079f8",
   "metadata": {},
   "source": [
    "# MULTIPLE LINEAR REGRESSION\n",
    "\n",
    "Multiple Linear Regression'da birden fazla bağımsız(independent) değişkene karşılık bir bağımlı(dependent) dğeişken bulunur.\n",
    "\n",
    "Linear Regression veriler arasında var olan korelasyonu(ilişkiyi) kullanarak yeni gelecek verileri tahmin etme modelidir. Burada makine öğrenimi bize veriler arasındaki bu ilişkiyi belirlememize yardımcı olur ve bu sayede yeni verileri tahmin edebiliriz. "
   ]
  },
  {
   "cell_type": "code",
   "execution_count": 1,
   "id": "c1416c59",
   "metadata": {},
   "outputs": [],
   "source": [
    "\n",
    "import pandas as pd\n",
    "import matplotlib.pyplot as plt\n",
    "# sklearn library\n",
    "from sklearn import linear_model\n",
    "\n",
    "# veri setimizi import ediyoruz, ayraç olarak noktalı virgül olduğu için bunu belirtiyoruz:\n",
    "df = pd.read_csv(\"multilinearregression.csv\",sep = \";\")\n",
    "\n"
   ]
  },
  {
   "cell_type": "code",
   "execution_count": null,
   "id": "cfcaf07e",
   "metadata": {},
   "outputs": [],
   "source": [
    "# Veri setimizi görelim ve doğru import ettiğiniz kontrol edelim:\n",
    "df"
   ]
  },
  {
   "cell_type": "code",
   "execution_count": null,
   "id": "c65de2c8",
   "metadata": {},
   "outputs": [],
   "source": [
    "df[['alan', 'odasayisi', 'binayasi']]"
   ]
  },
  {
   "cell_type": "code",
   "execution_count": null,
   "id": "f9efa2f9",
   "metadata": {},
   "outputs": [],
   "source": [
    "df['fiyat']"
   ]
  },
  {
   "cell_type": "code",
   "execution_count": null,
   "id": "38e4153f",
   "metadata": {},
   "outputs": [],
   "source": [
    "# linear regression modeli tanımlıyoruz:\n",
    "\n",
    "reg = linear_model.LinearRegression()\n",
    "#? fit ile öğrenme işlemi yapıyoruz gibi düşünebiliriz\n",
    "reg.fit(df[['alan', 'odasayisi', 'binayasi']], df['fiyat'])\n",
    "\n",
    "# Prediction yapalım..\n",
    "# 230 m2 4 oda 10 yaşında bina için fiyatı çıkarmasını istiyoruz\n",
    "reg.predict([[230,4,10]])"
   ]
  },
  {
   "cell_type": "code",
   "execution_count": null,
   "id": "71904ed1",
   "metadata": {},
   "outputs": [],
   "source": [
    "reg.predict([[230,6,0]])"
   ]
  },
  {
   "cell_type": "code",
   "execution_count": null,
   "id": "78023486",
   "metadata": {},
   "outputs": [],
   "source": [
    "reg.predict([[355,3,20]])"
   ]
  },
  {
   "cell_type": "code",
   "execution_count": null,
   "id": "084a81f6",
   "metadata": {},
   "outputs": [],
   "source": [
    "reg.predict([[230,4,10], [230,6,0], [355,3,20]])"
   ]
  },
  {
   "cell_type": "code",
   "execution_count": null,
   "id": "1ae9c5dd",
   "metadata": {},
   "outputs": [],
   "source": [
    "reg.coef_"
   ]
  },
  {
   "cell_type": "code",
   "execution_count": null,
   "id": "081f56e1",
   "metadata": {},
   "outputs": [],
   "source": [
    "reg.intercept_"
   ]
  },
  {
   "cell_type": "code",
   "execution_count": null,
   "id": "d0759595",
   "metadata": {},
   "outputs": [],
   "source": [
    "# Multiple Linear regression formülümüze dönersek hatırlayalım:\n",
    "# y= a + b1X1 + b2X2 + b3X3 + ... formülümüzdü\n",
    "\n",
    "a = reg.intercept_\n",
    "b1 = reg.coef_[0]\n",
    "b2 = reg.coef_[1]\n",
    "b3 = reg.coef_[2]\n",
    "\n",
    "x1 = 230\n",
    "x2 = 4\n",
    "x3 = 10\n",
    "y = a + b1*x1 + b2*x2 + b3*x3\n",
    "\n",
    "y"
   ]
  },
  {
   "cell_type": "code",
   "execution_count": 3,
   "id": "2baef1c4",
   "metadata": {},
   "outputs": [],
   "source": [
    "import pickle\n",
    "#! kayıt etme işlemleri için kullanırız bu kütüphaneti "
   ]
  },
  {
   "cell_type": "code",
   "execution_count": null,
   "id": "c9f7c16a",
   "metadata": {},
   "outputs": [],
   "source": [
    "modeldosyasi=\"evFiyatTahmini_Model_kayit.pickle\""
   ]
  },
  {
   "cell_type": "code",
   "execution_count": null,
   "id": "fc1faff9",
   "metadata": {},
   "outputs": [],
   "source": [
    "\n",
    "# kullanım mantığı bu şekil\n",
    "#pickle.dumps(modelismi,open)modeldosyasi,\"wb\"))\n",
    "#! burada wb open for writing and open in binary mode anlamına gelmektedir"
   ]
  },
  {
   "cell_type": "code",
   "execution_count": null,
   "id": "b911bc9f",
   "metadata": {},
   "outputs": [],
   "source": [
    "pickle.dump(reg,open(modeldosyasi ,'wb'))\n"
   ]
  },
  {
   "cell_type": "markdown",
   "id": "87916d6c",
   "metadata": {},
   "source": [
    "#??? modeli yükleme kısmı "
   ]
  },
  {
   "cell_type": "code",
   "execution_count": 5,
   "id": "2e6bd962",
   "metadata": {},
   "outputs": [],
   "source": [
    "myModel=pickle.load(open(\"evFiyatTahmini_Model_kayit.pickle\",'rb'))"
   ]
  },
  {
   "cell_type": "markdown",
   "id": "62c4a650",
   "metadata": {},
   "source": [
    "DOSYADAN ÇEKTİK ŞİMDİ YENİ TAHMİNLER İSTEYELİM"
   ]
  },
  {
   "cell_type": "code",
   "execution_count": 7,
   "id": "6bb8cc01",
   "metadata": {},
   "outputs": [
    {
     "name": "stderr",
     "output_type": "stream",
     "text": [
      "c:\\Users\\canoz\\Desktop\\Machine Learning\\ML pythondosyalari\\.venv\\Lib\\site-packages\\sklearn\\utils\\validation.py:2739: UserWarning: X does not have valid feature names, but LinearRegression was fitted with feature names\n",
      "  warnings.warn(\n"
     ]
    },
    {
     "data": {
      "text/plain": [
       "array([616657.45791365])"
      ]
     },
     "execution_count": 7,
     "metadata": {},
     "output_type": "execute_result"
    }
   ],
   "source": [
    "myModel.predict([[355,3,20]])"
   ]
  }
 ],
 "metadata": {
  "kernelspec": {
   "display_name": ".venv",
   "language": "python",
   "name": "python3"
  },
  "language_info": {
   "codemirror_mode": {
    "name": "ipython",
    "version": 3
   },
   "file_extension": ".py",
   "mimetype": "text/x-python",
   "name": "python",
   "nbconvert_exporter": "python",
   "pygments_lexer": "ipython3",
   "version": "3.12.2"
  }
 },
 "nbformat": 4,
 "nbformat_minor": 5
}
